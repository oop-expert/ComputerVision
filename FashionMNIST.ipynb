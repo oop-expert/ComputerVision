{
  "nbformat": 4,
  "nbformat_minor": 0,
  "metadata": {
    "colab": {
      "provenance": [],
      "authorship_tag": "ABX9TyNODvO6pARspV0NgsjIhRBX"
    },
    "kernelspec": {
      "name": "python3",
      "display_name": "Python 3"
    },
    "language_info": {
      "name": "python"
    }
  },
  "cells": [
    {
      "cell_type": "markdown",
      "source": [
        "# **Загружаем библиотеки**\n"
      ],
      "metadata": {
        "id": "JIXdBHAHb7ZL"
      }
    },
    {
      "cell_type": "code",
      "source": [
        "from tensorflow.keras.datasets import fashion_mnist\n",
        "from tensorflow.keras.models import Sequential\n",
        "from tensorflow.keras.layers import Dense, Dropout\n",
        "from tensorflow.keras import utils\n",
        "from tensorflow.keras.preprocessing import image\n",
        "import numpy as np\n",
        "import matplotlib.pyplot as plt"
      ],
      "metadata": {
        "id": "j9iBXmiFb62-"
      },
      "execution_count": 2,
      "outputs": []
    },
    {
      "cell_type": "markdown",
      "source": [
        "#**Подготовка данных для обучения сети**"
      ],
      "metadata": {
        "id": "zhAAGum4cnWD"
      }
    },
    {
      "cell_type": "code",
      "source": [
        "classes = ['футболка', 'брюки', 'свитер', 'платье', 'пальто', 'туфли', 'рубашка', 'кроссовки', 'сумка', 'ботинки']"
      ],
      "metadata": {
        "id": "JlLL27uX2C0e"
      },
      "execution_count": 18,
      "outputs": []
    },
    {
      "cell_type": "markdown",
      "source": [
        "##Загрузка набора данных"
      ],
      "metadata": {
        "id": "ks56-DCHcuLh"
      }
    },
    {
      "cell_type": "code",
      "source": [
        "#Чтобы загрузить данные в Keras есть средства работы с популярными наборами данных\n",
        "#x_train - это фотография предмета одежды, а y_train - это правильный ответ\n",
        "(x_train, y_train), (x_test, y_test) = fashion_mnist.load_data()"
      ],
      "metadata": {
        "colab": {
          "base_uri": "https://localhost:8080/"
        },
        "id": "MPtr6IJCctEo",
        "outputId": "46ff96ed-647a-455c-a13a-9c0ef92ad715"
      },
      "execution_count": 3,
      "outputs": [
        {
          "output_type": "stream",
          "name": "stdout",
          "text": [
            "Downloading data from https://storage.googleapis.com/tensorflow/tf-keras-datasets/train-labels-idx1-ubyte.gz\n",
            "29515/29515 [==============================] - 0s 0us/step\n",
            "Downloading data from https://storage.googleapis.com/tensorflow/tf-keras-datasets/train-images-idx3-ubyte.gz\n",
            "26421880/26421880 [==============================] - 0s 0us/step\n",
            "Downloading data from https://storage.googleapis.com/tensorflow/tf-keras-datasets/t10k-labels-idx1-ubyte.gz\n",
            "5148/5148 [==============================] - 0s 0us/step\n",
            "Downloading data from https://storage.googleapis.com/tensorflow/tf-keras-datasets/t10k-images-idx3-ubyte.gz\n",
            "4422102/4422102 [==============================] - 0s 0us/step\n"
          ]
        }
      ]
    },
    {
      "cell_type": "markdown",
      "source": [
        "##Преобразования размерности в наборе данных"
      ],
      "metadata": {
        "id": "Z20tCMdFdWIy"
      }
    },
    {
      "cell_type": "code",
      "source": [
        "#Поскольку нейронная сеть полносвязная, то мы можем работать только с плоскими данными\n",
        "x_train = x_train.reshape(60000, 784) #Преобразуем изображение из двумерного формата в плоский"
      ],
      "metadata": {
        "id": "4XxMUM6OdeP9"
      },
      "execution_count": 4,
      "outputs": []
    },
    {
      "cell_type": "markdown",
      "source": [
        "##Нормализация данных"
      ],
      "metadata": {
        "id": "_O3qq2zleHkl"
      }
    },
    {
      "cell_type": "code",
      "source": [
        "#Делим значение интенсивности каждого пикселя на 255 чтобы добиться поступления данных в значении от 0 до 1 (так нейронная сеть лучше всего обучается)\n",
        "x_train = x_train / 255"
      ],
      "metadata": {
        "id": "yaEwMlLEeKch"
      },
      "execution_count": 5,
      "outputs": []
    },
    {
      "cell_type": "markdown",
      "source": [
        "##Работа с правильными ответами (подготовка правильных ответов)"
      ],
      "metadata": {
        "id": "w_EQOjSSe8O9"
      }
    },
    {
      "cell_type": "markdown",
      "source": [
        "Пример правильного ответа"
      ],
      "metadata": {
        "id": "1vFCzoXTfEHT"
      }
    },
    {
      "cell_type": "code",
      "source": [
        "#Изначально номера правильных ответов содержат только номера классов (нам нужны в формате one hot encoding)\n",
        "print(y_train[0])"
      ],
      "metadata": {
        "colab": {
          "base_uri": "https://localhost:8080/"
        },
        "id": "V4huMeYUfAQk",
        "outputId": "5e7d3229-21c2-4ae8-e277-de3be15a2601"
      },
      "execution_count": 6,
      "outputs": [
        {
          "output_type": "stream",
          "name": "stdout",
          "text": [
            "9\n"
          ]
        }
      ]
    },
    {
      "cell_type": "markdown",
      "source": [
        "##Преобразования меток в формат one hot encoding"
      ],
      "metadata": {
        "id": "pfvGM6hNfwBq"
      }
    },
    {
      "cell_type": "code",
      "source": [
        "y_train = utils.to_categorical(y_train, 10) # to_categorical(массив с правильными ответами, количество классов)"
      ],
      "metadata": {
        "id": "AY8wTgvtf4W-"
      },
      "execution_count": 9,
      "outputs": []
    },
    {
      "cell_type": "markdown",
      "source": [
        "##Правильный ответ в формате one hot encoding"
      ],
      "metadata": {
        "id": "Rz4yeeaYgbsg"
      }
    },
    {
      "cell_type": "code",
      "source": [
        "print(y_train[0])"
      ],
      "metadata": {
        "colab": {
          "base_uri": "https://localhost:8080/"
        },
        "id": "9sLEwVknghT2",
        "outputId": "a5e77266-42b4-4e31-c337-ab6b8affe530"
      },
      "execution_count": 10,
      "outputs": [
        {
          "output_type": "stream",
          "name": "stdout",
          "text": [
            "[0. 0. 0. 0. 0. 0. 0. 0. 0. 1.]\n"
          ]
        }
      ]
    },
    {
      "cell_type": "markdown",
      "source": [
        "#**Создаем нейронную сеть**"
      ],
      "metadata": {
        "id": "kPaPbpJKguQZ"
      }
    },
    {
      "cell_type": "markdown",
      "source": [
        "##Описываем архитектуру нейронной сети"
      ],
      "metadata": {
        "id": "FOjGiwxggzWr"
      }
    },
    {
      "cell_type": "code",
      "source": [
        "#Поскольку модель последовательная (в последовательной модели слои идут друг за другом)\n",
        "model = Sequential()\n",
        "\n",
        "#Слои нейронной сети\n",
        "#Входной полносвязный слой, содержит 800 нейронов, 784 входа на каждый нейрон\n",
        "model.add(Dense(800, input_dim=784, activation=\"relu\")) #Функция активации полулинейная\n",
        "#Выходной полоносвязный слой, содержит 10 нейронов (по количеству предметов одежды)\n",
        "model.add(Dense(10, activation=\"softmax\")) #softmax представляет выходные данные от 0 до 1, так как и нао для формата one hot encoding"
      ],
      "metadata": {
        "id": "ncIGR7f2gybp"
      },
      "execution_count": 11,
      "outputs": []
    },
    {
      "cell_type": "markdown",
      "source": [
        "##Компиляция нейронной сети"
      ],
      "metadata": {
        "id": "TEl_QoxuiUdU"
      }
    },
    {
      "cell_type": "code",
      "source": [
        "#Перед тем как обучить нейронную сеть, ее необходимо скомпилировать и указать парметры обучения\n",
        "model.compile(loss=\"categorical_crossentropy\", optimizer=\"adam\", metrics=[\"accuracy\"])\n",
        "#loss - функция ошибки, optimizer - алгоритм обучения, metrics - метрика качества обучения сети. Accuracy - Доля правильных ответов"
      ],
      "metadata": {
        "id": "ju30FIewiYDU"
      },
      "execution_count": 12,
      "outputs": []
    },
    {
      "cell_type": "markdown",
      "source": [
        "##Обучение нейронной сети"
      ],
      "metadata": {
        "id": "kNTOBQf-jHgV"
      }
    },
    {
      "cell_type": "code",
      "source": [
        "model.fit(x_train, y_train, #Набор данных для обучения и правильный ответ (обучение с учителем)\n",
        "          batch_size=200, #Минивыборка в 200 изображений\n",
        "          epochs=50,\n",
        "          verbose=1) #Печать прогресса обучения нейронной сети"
      ],
      "metadata": {
        "colab": {
          "base_uri": "https://localhost:8080/"
        },
        "id": "JSspw3DJjKyR",
        "outputId": "8b3c2140-16dc-4e9b-d4a4-ca25eea64360"
      },
      "execution_count": 13,
      "outputs": [
        {
          "output_type": "stream",
          "name": "stdout",
          "text": [
            "Epoch 1/50\n",
            "300/300 [==============================] - 7s 20ms/step - loss: 0.5126 - accuracy: 0.8205\n",
            "Epoch 2/50\n",
            "300/300 [==============================] - 5s 16ms/step - loss: 0.3733 - accuracy: 0.8668\n",
            "Epoch 3/50\n",
            "300/300 [==============================] - 5s 18ms/step - loss: 0.3379 - accuracy: 0.8776\n",
            "Epoch 4/50\n",
            "300/300 [==============================] - 5s 18ms/step - loss: 0.3064 - accuracy: 0.8886\n",
            "Epoch 5/50\n",
            "300/300 [==============================] - 5s 16ms/step - loss: 0.2889 - accuracy: 0.8939\n",
            "Epoch 6/50\n",
            "300/300 [==============================] - 6s 20ms/step - loss: 0.2717 - accuracy: 0.9010\n",
            "Epoch 7/50\n",
            "300/300 [==============================] - 5s 16ms/step - loss: 0.2601 - accuracy: 0.9040\n",
            "Epoch 8/50\n",
            "300/300 [==============================] - 6s 20ms/step - loss: 0.2461 - accuracy: 0.9088\n",
            "Epoch 9/50\n",
            "300/300 [==============================] - 5s 16ms/step - loss: 0.2401 - accuracy: 0.9111\n",
            "Epoch 10/50\n",
            "300/300 [==============================] - 5s 17ms/step - loss: 0.2261 - accuracy: 0.9167\n",
            "Epoch 11/50\n",
            "300/300 [==============================] - 6s 19ms/step - loss: 0.2170 - accuracy: 0.9191\n",
            "Epoch 12/50\n",
            "300/300 [==============================] - 5s 16ms/step - loss: 0.2101 - accuracy: 0.9217\n",
            "Epoch 13/50\n",
            "300/300 [==============================] - 6s 20ms/step - loss: 0.2039 - accuracy: 0.9248\n",
            "Epoch 14/50\n",
            "300/300 [==============================] - 5s 16ms/step - loss: 0.1987 - accuracy: 0.9259\n",
            "Epoch 15/50\n",
            "300/300 [==============================] - 6s 20ms/step - loss: 0.1898 - accuracy: 0.9291\n",
            "Epoch 16/50\n",
            "300/300 [==============================] - 5s 16ms/step - loss: 0.1807 - accuracy: 0.9329\n",
            "Epoch 17/50\n",
            "300/300 [==============================] - 5s 16ms/step - loss: 0.1748 - accuracy: 0.9352\n",
            "Epoch 18/50\n",
            "300/300 [==============================] - 6s 20ms/step - loss: 0.1738 - accuracy: 0.9361\n",
            "Epoch 19/50\n",
            "300/300 [==============================] - 5s 16ms/step - loss: 0.1671 - accuracy: 0.9387\n",
            "Epoch 20/50\n",
            "300/300 [==============================] - 6s 19ms/step - loss: 0.1585 - accuracy: 0.9405\n",
            "Epoch 21/50\n",
            "300/300 [==============================] - 5s 17ms/step - loss: 0.1526 - accuracy: 0.9436\n",
            "Epoch 22/50\n",
            "300/300 [==============================] - 6s 19ms/step - loss: 0.1488 - accuracy: 0.9440\n",
            "Epoch 23/50\n",
            "300/300 [==============================] - 5s 17ms/step - loss: 0.1452 - accuracy: 0.9462\n",
            "Epoch 24/50\n",
            "300/300 [==============================] - 5s 16ms/step - loss: 0.1374 - accuracy: 0.9491\n",
            "Epoch 25/50\n",
            "300/300 [==============================] - 6s 19ms/step - loss: 0.1375 - accuracy: 0.9490\n",
            "Epoch 26/50\n",
            "300/300 [==============================] - 5s 16ms/step - loss: 0.1292 - accuracy: 0.9519\n",
            "Epoch 27/50\n",
            "300/300 [==============================] - 6s 20ms/step - loss: 0.1252 - accuracy: 0.9547\n",
            "Epoch 28/50\n",
            "300/300 [==============================] - 5s 16ms/step - loss: 0.1223 - accuracy: 0.9549\n",
            "Epoch 29/50\n",
            "300/300 [==============================] - 5s 18ms/step - loss: 0.1204 - accuracy: 0.9553\n",
            "Epoch 30/50\n",
            "300/300 [==============================] - 5s 18ms/step - loss: 0.1136 - accuracy: 0.9577\n",
            "Epoch 31/50\n",
            "300/300 [==============================] - 5s 16ms/step - loss: 0.1099 - accuracy: 0.9593\n",
            "Epoch 32/50\n",
            "300/300 [==============================] - 6s 20ms/step - loss: 0.1081 - accuracy: 0.9595\n",
            "Epoch 33/50\n",
            "300/300 [==============================] - 5s 17ms/step - loss: 0.1026 - accuracy: 0.9628\n",
            "Epoch 34/50\n",
            "300/300 [==============================] - 6s 20ms/step - loss: 0.1038 - accuracy: 0.9611\n",
            "Epoch 35/50\n",
            "300/300 [==============================] - 5s 16ms/step - loss: 0.0992 - accuracy: 0.9632\n",
            "Epoch 36/50\n",
            "300/300 [==============================] - 5s 17ms/step - loss: 0.0955 - accuracy: 0.9645\n",
            "Epoch 37/50\n",
            "300/300 [==============================] - 6s 19ms/step - loss: 0.0953 - accuracy: 0.9660\n",
            "Epoch 38/50\n",
            "300/300 [==============================] - 5s 16ms/step - loss: 0.0871 - accuracy: 0.9682\n",
            "Epoch 39/50\n",
            "300/300 [==============================] - 6s 19ms/step - loss: 0.0876 - accuracy: 0.9679\n",
            "Epoch 40/50\n",
            "300/300 [==============================] - 5s 16ms/step - loss: 0.0862 - accuracy: 0.9681\n",
            "Epoch 41/50\n",
            "300/300 [==============================] - 6s 20ms/step - loss: 0.0851 - accuracy: 0.9681\n",
            "Epoch 42/50\n",
            "300/300 [==============================] - 5s 16ms/step - loss: 0.0809 - accuracy: 0.9708\n",
            "Epoch 43/50\n",
            "300/300 [==============================] - 5s 16ms/step - loss: 0.0784 - accuracy: 0.9715\n",
            "Epoch 44/50\n",
            "300/300 [==============================] - 6s 20ms/step - loss: 0.0753 - accuracy: 0.9728\n",
            "Epoch 45/50\n",
            "300/300 [==============================] - 5s 16ms/step - loss: 0.0746 - accuracy: 0.9720\n",
            "Epoch 46/50\n",
            "300/300 [==============================] - 6s 20ms/step - loss: 0.0717 - accuracy: 0.9729\n",
            "Epoch 47/50\n",
            "300/300 [==============================] - 5s 16ms/step - loss: 0.0674 - accuracy: 0.9758\n",
            "Epoch 48/50\n",
            "300/300 [==============================] - 6s 20ms/step - loss: 0.0699 - accuracy: 0.9742\n",
            "Epoch 49/50\n",
            "300/300 [==============================] - 5s 17ms/step - loss: 0.0623 - accuracy: 0.9775\n",
            "Epoch 50/50\n",
            "300/300 [==============================] - 5s 16ms/step - loss: 0.0649 - accuracy: 0.9765\n"
          ]
        },
        {
          "output_type": "execute_result",
          "data": {
            "text/plain": [
              "<keras.src.callbacks.History at 0x78cdc3298190>"
            ]
          },
          "metadata": {},
          "execution_count": 13
        }
      ]
    },
    {
      "cell_type": "markdown",
      "source": [
        "#**Распознавание нейросетью предметов одежды**"
      ],
      "metadata": {
        "id": "JBqb5Hyo04N6"
      }
    },
    {
      "cell_type": "markdown",
      "source": [
        "##Распознавание набора данных, на которых обучилась нейросеть"
      ],
      "metadata": {
        "id": "r1ISjzak0-03"
      }
    },
    {
      "cell_type": "code",
      "source": [
        "predictions = model.predict(x_train)"
      ],
      "metadata": {
        "colab": {
          "base_uri": "https://localhost:8080/"
        },
        "id": "SP5XO4kT09Qm",
        "outputId": "392a25f7-0303-4023-cb53-d393aa8f1cc0"
      },
      "execution_count": 14,
      "outputs": [
        {
          "output_type": "stream",
          "name": "stdout",
          "text": [
            "1875/1875 [==============================] - 6s 3ms/step\n"
          ]
        }
      ]
    },
    {
      "cell_type": "code",
      "source": [
        "print(predictions[3])"
      ],
      "metadata": {
        "colab": {
          "base_uri": "https://localhost:8080/"
        },
        "id": "xK7ndHvi1MpH",
        "outputId": "e544228d-fee3-4651-f597-c028e883a4f3"
      },
      "execution_count": 28,
      "outputs": [
        {
          "output_type": "stream",
          "name": "stdout",
          "text": [
            "[8.7461341e-03 1.0308446e-09 4.5585651e-09 9.9039418e-01 1.0171983e-12\n",
            " 1.5650242e-12 8.5966592e-04 1.2788570e-15 5.9935177e-12 6.4208247e-13]\n"
          ]
        }
      ]
    },
    {
      "cell_type": "markdown",
      "source": [
        "#Номер класса изображения, который предлагает сеть"
      ],
      "metadata": {
        "id": "8DPemr0M1fpi"
      }
    },
    {
      "cell_type": "code",
      "source": [
        "np.argmax(predictions[3])"
      ],
      "metadata": {
        "colab": {
          "base_uri": "https://localhost:8080/"
        },
        "id": "q7WxWs-21d1z",
        "outputId": "69c2b1d0-09f8-4097-d74c-94892b9609c9"
      },
      "execution_count": 29,
      "outputs": [
        {
          "output_type": "execute_result",
          "data": {
            "text/plain": [
              "3"
            ]
          },
          "metadata": {},
          "execution_count": 29
        }
      ]
    },
    {
      "cell_type": "code",
      "source": [
        "classes[np.argmax(predictions[3])]"
      ],
      "metadata": {
        "colab": {
          "base_uri": "https://localhost:8080/",
          "height": 36
        },
        "id": "ID45oPDl2FAM",
        "outputId": "d874b60a-8601-4592-e8c7-db9dd24910e3"
      },
      "execution_count": 30,
      "outputs": [
        {
          "output_type": "execute_result",
          "data": {
            "text/plain": [
              "'платье'"
            ],
            "application/vnd.google.colaboratory.intrinsic+json": {
              "type": "string"
            }
          },
          "metadata": {},
          "execution_count": 30
        }
      ]
    },
    {
      "cell_type": "markdown",
      "source": [
        "##Вывод изображения"
      ],
      "metadata": {
        "id": "lB3VWTYE3Ai6"
      }
    },
    {
      "cell_type": "code",
      "source": [
        "plt.imshow(x_train[3].reshape(28, 28), cmap=plt.cm.binary)\n",
        "plt.show()"
      ],
      "metadata": {
        "colab": {
          "base_uri": "https://localhost:8080/",
          "height": 430
        },
        "id": "-kYFFLu43DVy",
        "outputId": "d2a69127-9667-4fb8-ce92-72267fb705c1"
      },
      "execution_count": 31,
      "outputs": [
        {
          "output_type": "display_data",
          "data": {
            "text/plain": [
              "<Figure size 640x480 with 1 Axes>"
            ],
            "image/png": "[encoded data removed]"
          },
          "metadata": {}
        }
      ]
    }
  ]
}