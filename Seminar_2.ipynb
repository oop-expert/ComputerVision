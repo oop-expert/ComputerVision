{
  "nbformat": 4,
  "nbformat_minor": 0,
  "metadata": {
    "colab": {
      "provenance": [],
      "authorship_tag": "ABX9TyMBKkd3dHZHUmY8FttHvGxS",
      "include_colab_link": true
    },
    "kernelspec": {
      "name": "python3",
      "display_name": "Python 3"
    },
    "language_info": {
      "name": "python"
    }
  },
  "cells": [
    {
      "cell_type": "markdown",
      "metadata": {
        "id": "view-in-github",
        "colab_type": "text"
      },
    },
    {
      "cell_type": "code",
      "execution_count": 1,
      "metadata": {
        "id": "THVcxNbSTfNv"
      },
      "outputs": [],
      "source": [
        "import torch"
      ]
    },
    {
      "cell_type": "code",
      "source": [
        "torch.zeros([3, 4])"
      ],
      "metadata": {
        "colab": {
          "base_uri": "https://localhost:8080/"
        },
        "id": "CT7e0mSFT2xD",
        "outputId": "b8b54e6a-33bf-4f8a-a3c8-5ec34c3df636"
      },
      "execution_count": 2,
      "outputs": [
        {
          "output_type": "execute_result",
          "data": {
            "text/plain": [
              "tensor([[0., 0., 0., 0.],\n",
              "        [0., 0., 0., 0.],\n",
              "        [0., 0., 0., 0.]])"
            ]
          },
          "metadata": {},
          "execution_count": 2
        }
      ]
    },
    {
      "cell_type": "code",
      "source": [
        "torch.ones([3, 4, 2])"
      ],
      "metadata": {
        "colab": {
          "base_uri": "https://localhost:8080/"
        },
        "id": "wyLBzfq1T7-y",
        "outputId": "54a50796-5c8a-4f5e-9b5c-5745068617a5"
      },
      "execution_count": 3,
      "outputs": [
        {
          "output_type": "execute_result",
          "data": {
            "text/plain": [
              "tensor([[[1., 1.],\n",
              "         [1., 1.],\n",
              "         [1., 1.],\n",
              "         [1., 1.]],\n",
              "\n",
              "        [[1., 1.],\n",
              "         [1., 1.],\n",
              "         [1., 1.],\n",
              "         [1., 1.]],\n",
              "\n",
              "        [[1., 1.],\n",
              "         [1., 1.],\n",
              "         [1., 1.],\n",
              "         [1., 1.]]])"
            ]
          },
          "metadata": {},
          "execution_count": 3
        }
      ]
    },
    {
      "cell_type": "code",
      "source": [
        "torch.Tensor([[1,  2,  3,  4],\n",
        "              [5,  6,  7,  8],\n",
        "              [9, 10, 11, 12]])"
      ],
      "metadata": {
        "colab": {
          "base_uri": "https://localhost:8080/"
        },
        "id": "uy8UGgH6T_tg",
        "outputId": "53c8381d-76cd-4fd5-c425-025ac55ccc71"
      },
      "execution_count": 4,
      "outputs": [
        {
          "output_type": "execute_result",
          "data": {
            "text/plain": [
              "tensor([[ 1.,  2.,  3.,  4.],\n",
              "        [ 5.,  6.,  7.,  8.],\n",
              "        [ 9., 10., 11., 12.]])"
            ]
          },
          "metadata": {},
          "execution_count": 4
        }
      ]
    },
    {
      "cell_type": "code",
      "source": [
        "x = torch.Tensor([[1,  2,  3,  4],\n",
        "                  [5,  6,  7,  8],\n",
        "                  [9, 10, 11, 12]])"
      ],
      "metadata": {
        "id": "nccpKhk1UFiC"
      },
      "execution_count": 6,
      "outputs": []
    },
    {
      "cell_type": "code",
      "source": [
        "x.size()"
      ],
      "metadata": {
        "colab": {
          "base_uri": "https://localhost:8080/"
        },
        "id": "N0gmKJUyUKuo",
        "outputId": "fbcba9a5-de7b-45b3-e633-0e921c34eb21"
      },
      "execution_count": 7,
      "outputs": [
        {
          "output_type": "execute_result",
          "data": {
            "text/plain": [
              "torch.Size([3, 4])"
            ]
          },
          "metadata": {},
          "execution_count": 7
        }
      ]
    },
    {
      "cell_type": "code",
      "source": [
        "x.shape"
      ],
      "metadata": {
        "colab": {
          "base_uri": "https://localhost:8080/"
        },
        "id": "IwnHM2C5UNou",
        "outputId": "776ddcb6-65b9-433f-ce5d-233f1fa3d368"
      },
      "execution_count": 10,
      "outputs": [
        {
          "output_type": "execute_result",
          "data": {
            "text/plain": [
              "torch.Size([3, 4])"
            ]
          },
          "metadata": {},
          "execution_count": 10
        }
      ]
    },
    {
      "cell_type": "code",
      "source": [
        "x[0]"
      ],
      "metadata": {
        "colab": {
          "base_uri": "https://localhost:8080/"
        },
        "id": "H1qf-eLEUSTr",
        "outputId": "df406252-7f19-4741-d759-9b6b4620f5a3"
      },
      "execution_count": 11,
      "outputs": [
        {
          "output_type": "execute_result",
          "data": {
            "text/plain": [
              "tensor([1., 2., 3., 4.])"
            ]
          },
          "metadata": {},
          "execution_count": 11
        }
      ]
    },
    {
      "cell_type": "code",
      "source": [
        "x[1]"
      ],
      "metadata": {
        "colab": {
          "base_uri": "https://localhost:8080/"
        },
        "id": "O82bRKlOUVp5",
        "outputId": "41b30d91-1745-4778-8e4a-5c6c1fc9147e"
      },
      "execution_count": 12,
      "outputs": [
        {
          "output_type": "execute_result",
          "data": {
            "text/plain": [
              "tensor([5., 6., 7., 8.])"
            ]
          },
          "metadata": {},
          "execution_count": 12
        }
      ]
    },
    {
      "cell_type": "code",
      "source": [
        "x + 10"
      ],
      "metadata": {
        "colab": {
          "base_uri": "https://localhost:8080/"
        },
        "id": "2J8OeHUBUXwY",
        "outputId": "5eb679cd-2e31-4e06-81b3-aecba444604f"
      },
      "execution_count": 13,
      "outputs": [
        {
          "output_type": "execute_result",
          "data": {
            "text/plain": [
              "tensor([[11., 12., 13., 14.],\n",
              "        [15., 16., 17., 18.],\n",
              "        [19., 20., 21., 22.]])"
            ]
          },
          "metadata": {},
          "execution_count": 13
        }
      ]
    },
    {
      "cell_type": "code",
      "source": [
        "x ** 2"
      ],
      "metadata": {
        "colab": {
          "base_uri": "https://localhost:8080/"
        },
        "id": "8lUV-5-AUaTw",
        "outputId": "31e5500c-bb23-41ba-ac27-d6d8cc2854df"
      },
      "execution_count": 14,
      "outputs": [
        {
          "output_type": "execute_result",
          "data": {
            "text/plain": [
              "tensor([[  1.,   4.,   9.,  16.],\n",
              "        [ 25.,  36.,  49.,  64.],\n",
              "        [ 81., 100., 121., 144.]])"
            ]
          },
          "metadata": {},
          "execution_count": 14
        }
      ]
    },
    {
      "cell_type": "code",
      "source": [
        "y = torch.Tensor([[12, 11, 10, 9],\n",
        "                  [8, 7, 6, 5],\n",
        "                  [4, 3, 2, 1]])"
      ],
      "metadata": {
        "id": "luwI-HIlUd5X"
      },
      "execution_count": 15,
      "outputs": []
    },
    {
      "cell_type": "code",
      "source": [
        "x + y"
      ],
      "metadata": {
        "colab": {
          "base_uri": "https://localhost:8080/"
        },
        "id": "QyD-ub2sUkCM",
        "outputId": "2fde9ff2-1624-4606-e5ec-d5d9eee2dabd"
      },
      "execution_count": 16,
      "outputs": [
        {
          "output_type": "execute_result",
          "data": {
            "text/plain": [
              "tensor([[13., 13., 13., 13.],\n",
              "        [13., 13., 13., 13.],\n",
              "        [13., 13., 13., 13.]])"
            ]
          },
          "metadata": {},
          "execution_count": 16
        }
      ]
    },
    {
      "cell_type": "code",
      "source": [
        "x * y"
      ],
      "metadata": {
        "colab": {
          "base_uri": "https://localhost:8080/"
        },
        "id": "m-cxJiS8UoQw",
        "outputId": "11d97c4c-911a-4053-dd73-0442fdee82c8"
      },
      "execution_count": 17,
      "outputs": [
        {
          "output_type": "execute_result",
          "data": {
            "text/plain": [
              "tensor([[12., 22., 30., 36.],\n",
              "        [40., 42., 42., 40.],\n",
              "        [36., 30., 22., 12.]])"
            ]
          },
          "metadata": {},
          "execution_count": 17
        }
      ]
    },
    {
      "cell_type": "code",
      "source": [
        "x / y"
      ],
      "metadata": {
        "colab": {
          "base_uri": "https://localhost:8080/"
        },
        "id": "J1QJxaQtUw-6",
        "outputId": "29239258-c9a2-473c-e067-da4f70012910"
      },
      "execution_count": 19,
      "outputs": [
        {
          "output_type": "execute_result",
          "data": {
            "text/plain": [
              "tensor([[ 0.0833,  0.1818,  0.3000,  0.4444],\n",
              "        [ 0.6250,  0.8571,  1.1667,  1.6000],\n",
              "        [ 2.2500,  3.3333,  5.5000, 12.0000]])"
            ]
          },
          "metadata": {},
          "execution_count": 19
        }
      ]
    },
    {
      "cell_type": "code",
      "source": [
        "x % y"
      ],
      "metadata": {
        "colab": {
          "base_uri": "https://localhost:8080/"
        },
        "id": "LCEK3tdLUtav",
        "outputId": "515af421-3d4a-41c0-f021-55e5e5699793"
      },
      "execution_count": 18,
      "outputs": [
        {
          "output_type": "execute_result",
          "data": {
            "text/plain": [
              "tensor([[1., 2., 3., 4.],\n",
              "        [5., 6., 1., 3.],\n",
              "        [1., 1., 1., 0.]])"
            ]
          },
          "metadata": {},
          "execution_count": 18
        }
      ]
    },
    {
      "cell_type": "code",
      "source": [
        "torch.exp(x)"
      ],
      "metadata": {
        "colab": {
          "base_uri": "https://localhost:8080/"
        },
        "id": "Q4j-N3cGU0ey",
        "outputId": "9f0c75f0-a41c-4a99-93af-0538fb778455"
      },
      "execution_count": 20,
      "outputs": [
        {
          "output_type": "execute_result",
          "data": {
            "text/plain": [
              "tensor([[2.7183e+00, 7.3891e+00, 2.0086e+01, 5.4598e+01],\n",
              "        [1.4841e+02, 4.0343e+02, 1.0966e+03, 2.9810e+03],\n",
              "        [8.1031e+03, 2.2026e+04, 5.9874e+04, 1.6275e+05]])"
            ]
          },
          "metadata": {},
          "execution_count": 20
        }
      ]
    },
    {
      "cell_type": "code",
      "source": [
        "torch.log(x)"
      ],
      "metadata": {
        "colab": {
          "base_uri": "https://localhost:8080/"
        },
        "id": "D0KKITC0U5xw",
        "outputId": "d7d931e2-2d16-443d-911c-19051dd1238c"
      },
      "execution_count": 21,
      "outputs": [
        {
          "output_type": "execute_result",
          "data": {
            "text/plain": [
              "tensor([[0.0000, 0.6931, 1.0986, 1.3863],\n",
              "        [1.6094, 1.7918, 1.9459, 2.0794],\n",
              "        [2.1972, 2.3026, 2.3979, 2.4849]])"
            ]
          },
          "metadata": {},
          "execution_count": 21
        }
      ]
    },
    {
      "cell_type": "code",
      "source": [
        "torch.sin(x)"
      ],
      "metadata": {
        "colab": {
          "base_uri": "https://localhost:8080/"
        },
        "id": "rRqeQ49uU8ff",
        "outputId": "ed99967a-84fc-45c3-f6cb-89a9279faea6"
      },
      "execution_count": 22,
      "outputs": [
        {
          "output_type": "execute_result",
          "data": {
            "text/plain": [
              "tensor([[ 0.8415,  0.9093,  0.1411, -0.7568],\n",
              "        [-0.9589, -0.2794,  0.6570,  0.9894],\n",
              "        [ 0.4121, -0.5440, -1.0000, -0.5366]])"
            ]
          },
          "metadata": {},
          "execution_count": 22
        }
      ]
    },
    {
      "cell_type": "code",
      "source": [
        "x > 3"
      ],
      "metadata": {
        "colab": {
          "base_uri": "https://localhost:8080/"
        },
        "id": "KL2NqxX5U_n5",
        "outputId": "9fbece12-29ae-4a1a-9948-51a52f5d1cf7"
      },
      "execution_count": 23,
      "outputs": [
        {
          "output_type": "execute_result",
          "data": {
            "text/plain": [
              "tensor([[False, False, False,  True],\n",
              "        [ True,  True,  True,  True],\n",
              "        [ True,  True,  True,  True]])"
            ]
          },
          "metadata": {},
          "execution_count": 23
        }
      ]
    },
    {
      "cell_type": "code",
      "source": [
        "mask = x > 3"
      ],
      "metadata": {
        "id": "RdkBryS_VEDK"
      },
      "execution_count": 24,
      "outputs": []
    },
    {
      "cell_type": "code",
      "source": [
        "x[mask]"
      ],
      "metadata": {
        "colab": {
          "base_uri": "https://localhost:8080/"
        },
        "id": "7Hwzd1dOVGjN",
        "outputId": "70a916f5-a002-48ed-d03c-bb2349c60c59"
      },
      "execution_count": 25,
      "outputs": [
        {
          "output_type": "execute_result",
          "data": {
            "text/plain": [
              "tensor([ 4.,  5.,  6.,  7.,  8.,  9., 10., 11., 12.])"
            ]
          },
          "metadata": {},
          "execution_count": 25
        }
      ]
    },
    {
      "cell_type": "code",
      "source": [
        "x[x > 3]"
      ],
      "metadata": {
        "colab": {
          "base_uri": "https://localhost:8080/"
        },
        "id": "4fqyTzkjVKPU",
        "outputId": "cc73fc18-c99b-473f-8512-e2c886cd8cfa"
      },
      "execution_count": 26,
      "outputs": [
        {
          "output_type": "execute_result",
          "data": {
            "text/plain": [
              "tensor([ 4.,  5.,  6.,  7.,  8.,  9., 10., 11., 12.])"
            ]
          },
          "metadata": {},
          "execution_count": 26
        }
      ]
    },
    {
      "cell_type": "code",
      "source": [
        "y = x\n",
        "y[0, 0] = 999\n",
        "print(x)\n",
        "print(y)"
      ],
      "metadata": {
        "colab": {
          "base_uri": "https://localhost:8080/"
        },
        "id": "HVPAvvj3WokC",
        "outputId": "d0c4b7f5-4e6d-48c2-a82d-514607918a0f"
      },
      "execution_count": 27,
      "outputs": [
        {
          "output_type": "stream",
          "name": "stdout",
          "text": [
            "tensor([[999.,   2.,   3.,   4.],\n",
            "        [  5.,   6.,   7.,   8.],\n",
            "        [  9.,  10.,  11.,  12.]])\n",
            "tensor([[999.,   2.,   3.,   4.],\n",
            "        [  5.,   6.,   7.,   8.],\n",
            "        [  9.,  10.,  11.,  12.]])\n"
          ]
        }
      ]
    },
    {
      "cell_type": "code",
      "source": [
        "x = torch.Tensor([[1,  2,  3,  4],\n",
        "                  [5,  6,  7,  8],\n",
        "                  [9, 10, 11, 12]])"
      ],
      "metadata": {
        "id": "DM-9BHN_Ww_q"
      },
      "execution_count": 28,
      "outputs": []
    },
    {
      "cell_type": "code",
      "source": [
        "y = x.clone()\n",
        "y[0, 0] = 999\n",
        "print(x)\n",
        "print(y)"
      ],
      "metadata": {
        "colab": {
          "base_uri": "https://localhost:8080/"
        },
        "id": "OTIP5QDdW20O",
        "outputId": "8ce6032a-343a-4c57-c495-73cc35f6c78b"
      },
      "execution_count": 31,
      "outputs": [
        {
          "output_type": "stream",
          "name": "stdout",
          "text": [
            "tensor([[ 1.,  2.,  3.,  4.],\n",
            "        [ 5.,  6.,  7.,  8.],\n",
            "        [ 9., 10., 11., 12.]])\n",
            "tensor([[999.,   2.,   3.,   4.],\n",
            "        [  5.,   6.,   7.,   8.],\n",
            "        [  9.,  10.,  11.,  12.]])\n"
          ]
        }
      ]
    },
    {
      "cell_type": "code",
      "source": [
        "x.dtype"
      ],
      "metadata": {
        "colab": {
          "base_uri": "https://localhost:8080/"
        },
        "id": "UZvvF3WxXE2p",
        "outputId": "3078cdcd-ee75-48eb-ff81-f5932e5bb739"
      },
      "execution_count": 33,
      "outputs": [
        {
          "output_type": "execute_result",
          "data": {
            "text/plain": [
              "torch.float32"
            ]
          },
          "metadata": {},
          "execution_count": 33
        }
      ]
    },
    {
      "cell_type": "code",
      "source": [
        "x = x.double()\n",
        "print(x)\n",
        "x = x.int()\n",
        "print(x)\n",
        "x = x.float()\n",
        "print(x)"
      ],
      "metadata": {
        "colab": {
          "base_uri": "https://localhost:8080/"
        },
        "id": "XYC8OOe3XKiL",
        "outputId": "04824250-2440-43c9-95c7-4c18999dd096"
      },
      "execution_count": 34,
      "outputs": [
        {
          "output_type": "stream",
          "name": "stdout",
          "text": [
            "tensor([[ 1.,  2.,  3.,  4.],\n",
            "        [ 5.,  6.,  7.,  8.],\n",
            "        [ 9., 10., 11., 12.]], dtype=torch.float64)\n",
            "tensor([[ 1,  2,  3,  4],\n",
            "        [ 5,  6,  7,  8],\n",
            "        [ 9, 10, 11, 12]], dtype=torch.int32)\n",
            "tensor([[ 1.,  2.,  3.,  4.],\n",
            "        [ 5.,  6.,  7.,  8.],\n",
            "        [ 9., 10., 11., 12.]])\n"
          ]
        }
      ]
    },
    {
      "cell_type": "code",
      "source": [
        "import numpy as np\n",
        "x = np.array([[1, 2, 3,4 ],\n",
        "              [4, 3, 2, 1]])\n",
        "x"
      ],
      "metadata": {
        "colab": {
          "base_uri": "https://localhost:8080/"
        },
        "id": "lo_PQBPTXKm1",
        "outputId": "b4e13ef5-2319-48e6-d6e4-8c662a66ec09"
      },
      "execution_count": 35,
      "outputs": [
        {
          "output_type": "execute_result",
          "data": {
            "text/plain": [
              "array([[1, 2, 3, 4],\n",
              "       [4, 3, 2, 1]])"
            ]
          },
          "metadata": {},
          "execution_count": 35
        }
      ]
    },
    {
      "cell_type": "code",
      "source": [
        "x = torch.from_numpy(x)\n",
        "x"
      ],
      "metadata": {
        "colab": {
          "base_uri": "https://localhost:8080/"
        },
        "id": "dKbq0JIvXi_e",
        "outputId": "cb881ca2-24bc-4a5e-f0ae-22abec40d390"
      },
      "execution_count": 36,
      "outputs": [
        {
          "output_type": "execute_result",
          "data": {
            "text/plain": [
              "tensor([[1, 2, 3, 4],\n",
              "        [4, 3, 2, 1]])"
            ]
          },
          "metadata": {},
          "execution_count": 36
        }
      ]
    },
    {
      "cell_type": "code",
      "source": [
        "x = x.numpy()\n",
        "x"
      ],
      "metadata": {
        "colab": {
          "base_uri": "https://localhost:8080/"
        },
        "id": "MSFa6J9xXo0X",
        "outputId": "b65b5af5-61bf-42b9-8d14-296e507bf1a7"
      },
      "execution_count": 37,
      "outputs": [
        {
          "output_type": "execute_result",
          "data": {
            "text/plain": [
              "array([[1, 2, 3, 4],\n",
              "       [4, 3, 2, 1]])"
            ]
          },
          "metadata": {},
          "execution_count": 37
        }
      ]
    },
    {
      "cell_type": "code",
      "source": [
        "x = torch.rand([2000, 3000])\n",
        "#x"
      ],
      "metadata": {
        "colab": {
          "base_uri": "https://localhost:8080/"
        },
        "id": "vvKXcdtrXsNu",
        "outputId": "4e78a82a-6c34-419c-d058-b2942e576fb8"
      },
      "execution_count": 39,
      "outputs": [
        {
          "output_type": "execute_result",
          "data": {
            "text/plain": [
              "tensor([[0.4125, 0.8765, 0.1420,  ..., 0.7678, 0.5628, 0.5483],\n",
              "        [0.0489, 0.2335, 0.4682,  ..., 0.3169, 0.7120, 0.7839],\n",
              "        [0.7847, 0.2102, 0.1375,  ..., 0.2983, 0.1242, 0.2206],\n",
              "        ...,\n",
              "        [0.6463, 0.6786, 0.5395,  ..., 0.5852, 0.5435, 0.0712],\n",
              "        [0.9915, 0.1795, 0.5588,  ..., 0.8726, 0.0252, 0.7743],\n",
              "        [0.3693, 0.8592, 0.3299,  ..., 0.7103, 0.4120, 0.4166]])"
            ]
          },
          "metadata": {},
          "execution_count": 39
        }
      ]
    },
    {
      "cell_type": "code",
      "source": [
        "torch.cuda.is_available()"
      ],
      "metadata": {
        "colab": {
          "base_uri": "https://localhost:8080/"
        },
        "id": "KOX2oIV9Xx-R",
        "outputId": "51210390-2c12-494d-ca31-dc5d11cba9c6"
      },
      "execution_count": 41,
      "outputs": [
        {
          "output_type": "execute_result",
          "data": {
            "text/plain": [
              "False"
            ]
          },
          "metadata": {},
          "execution_count": 41
        }
      ]
    },
    {
      "cell_type": "code",
      "source": [
        "torch.device('cuda:0')"
      ],
      "metadata": {
        "colab": {
          "base_uri": "https://localhost:8080/"
        },
        "id": "_XYv2FMQX6tY",
        "outputId": "f9518ba0-6495-4f07-9757-499a13909d3e"
      },
      "execution_count": 42,
      "outputs": [
        {
          "output_type": "execute_result",
          "data": {
            "text/plain": [
              "device(type='cuda', index=0)"
            ]
          },
          "metadata": {},
          "execution_count": 42
        }
      ]
    },
    {
      "cell_type": "code",
      "source": [
        "torch.device('cpu')"
      ],
      "metadata": {
        "colab": {
          "base_uri": "https://localhost:8080/"
        },
        "id": "Zvf-mmnYX-IF",
        "outputId": "ee0d8b65-6707-4073-9f5f-efb2223a5e42"
      },
      "execution_count": 43,
      "outputs": [
        {
          "output_type": "execute_result",
          "data": {
            "text/plain": [
              "device(type='cpu')"
            ]
          },
          "metadata": {},
          "execution_count": 43
        }
      ]
    },
    {
      "cell_type": "code",
      "source": [
        "device = torch.device('cuda:0' if torch.cuda.is_available() else 'cpu')\n",
        "device"
      ],
      "metadata": {
        "colab": {
          "base_uri": "https://localhost:8080/"
        },
        "id": "2LQJlWVWYAws",
        "outputId": "7f12de0d-5182-4a10-b883-f4d7c3a1d797"
      },
      "execution_count": 44,
      "outputs": [
        {
          "output_type": "execute_result",
          "data": {
            "text/plain": [
              "device(type='cpu')"
            ]
          },
          "metadata": {},
          "execution_count": 44
        }
      ]
    },
    {
      "cell_type": "code",
      "source": [
        "x_cuda = x.to(device)\n",
        "# x_cuda"
      ],
      "metadata": {
        "colab": {
          "base_uri": "https://localhost:8080/"
        },
        "id": "CSCKxk6iYJdJ",
        "outputId": "1057af6b-e206-40ff-9005-200014d0f9c5"
      },
      "execution_count": 45,
      "outputs": [
        {
          "output_type": "execute_result",
          "data": {
            "text/plain": [
              "tensor([[0.4125, 0.8765, 0.1420,  ..., 0.7678, 0.5628, 0.5483],\n",
              "        [0.0489, 0.2335, 0.4682,  ..., 0.3169, 0.7120, 0.7839],\n",
              "        [0.7847, 0.2102, 0.1375,  ..., 0.2983, 0.1242, 0.2206],\n",
              "        ...,\n",
              "        [0.6463, 0.6786, 0.5395,  ..., 0.5852, 0.5435, 0.0712],\n",
              "        [0.9915, 0.1795, 0.5588,  ..., 0.8726, 0.0252, 0.7743],\n",
              "        [0.3693, 0.8592, 0.3299,  ..., 0.7103, 0.4120, 0.4166]])"
            ]
          },
          "metadata": {},
          "execution_count": 45
        }
      ]
    },
    {
      "cell_type": "code",
      "source": [
        "%time y = (x - x + x * 10.0) ** 2"
      ],
      "metadata": {
        "colab": {
          "base_uri": "https://localhost:8080/"
        },
        "id": "wkhSVSvjYPjO",
        "outputId": "c47977a5-d54b-4620-f2a5-7febd6174f66"
      },
      "execution_count": 46,
      "outputs": [
        {
          "output_type": "stream",
          "name": "stdout",
          "text": [
            "CPU times: user 26.7 ms, sys: 47.1 ms, total: 73.8 ms\n",
            "Wall time: 77 ms\n"
          ]
        }
      ]
    },
    {
      "cell_type": "code",
      "source": [
        "%time y_cuda = (x_cuda - x_cuda + x_cuda * 10.0) ** 2"
      ],
      "metadata": {
        "colab": {
          "base_uri": "https://localhost:8080/"
        },
        "id": "6Jh5rhghYVr7",
        "outputId": "105897ed-4485-4be1-a327-9e0784525b32"
      },
      "execution_count": 47,
      "outputs": [
        {
          "output_type": "stream",
          "name": "stdout",
          "text": [
            "CPU times: user 16.4 ms, sys: 39.2 ms, total: 55.6 ms\n",
            "Wall time: 56.7 ms\n"
          ]
        }
      ]
    }
  ]
}
